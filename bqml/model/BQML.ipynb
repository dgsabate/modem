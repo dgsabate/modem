{
  "nbformat": 4,
  "nbformat_minor": 0,
  "metadata": {
    "colab": {
      "name": "BQML.ipynb",
      "provenance": [],
      "collapsed_sections": []
    },
    "kernelspec": {
      "name": "python3",
      "display_name": "Python 3"
    }
  },
  "cells": [
    {
      "cell_type": "markdown",
      "metadata": {
        "id": "WBdsNRDo15g5",
        "colab_type": "text"
      },
      "source": [
        "**Disclaimer:** The following code demonstrates a sample BQML model creation based on GA-BQ export. This is meant for inspiration only. We expect analysts/data scientists to identify the right set of features to create retargeted audiences based on their business needs. "
      ]
    },
    {
      "cell_type": "markdown",
      "metadata": {
        "id": "Tc4zXXhL1pmy",
        "colab_type": "text"
      },
      "source": [
        "#Change Params and Authenticate"
      ]
    },
    {
      "cell_type": "code",
      "metadata": {
        "id": "viewEf0d2XZn",
        "colab_type": "code",
        "cellView": "both",
        "colab": {}
      },
      "source": [
        "project_id = \"my_project\" #@param {type:\"string\"}\n",
        "example_dataset = \"my_schema\" #@param {type:\"string\"}"
      ],
      "execution_count": 15,
      "outputs": []
    },
    {
      "cell_type": "code",
      "metadata": {
        "id": "OiJMQLQ6yYhH",
        "colab_type": "code",
        "colab": {}
      },
      "source": [
        "from google.colab import auth\n",
        "auth.authenticate_user()"
      ],
      "execution_count": null,
      "outputs": []
    },
    {
      "cell_type": "markdown",
      "metadata": {
        "id": "yHad0X1c0tQJ",
        "colab_type": "text"
      },
      "source": [
        "# Generate and load sample GA dataset\n",
        "Based on an anonymized public GA dataset"
      ]
    },
    {
      "cell_type": "code",
      "metadata": {
        "id": "gg9xpKH82BiN",
        "colab_type": "code",
        "colab": {}
      },
      "source": [
        "%%bigquery --project=$project_id df\n",
        "WITH sample_raw_data AS (\n",
        "  SELECT CAST(CEIL(RAND() * 100) AS INT64) AS clientId, * EXCEPT (clientId) FROM `bigquery-public-data.google_analytics_sample.ga_sessions_20170801` LIMIT 1000\n",
        "),\n",
        "visit_data AS (\n",
        "  SELECT clientId, SUM(totals.visits) AS all_visits, CAST(ROUND(RAND() * 1) AS INT64) AS converted\n",
        "  FROM sample_raw_data\n",
        "  GROUP BY clientId\n",
        ")\n",
        "SELECT *\n",
        "FROM visit_data"
      ],
      "execution_count": null,
      "outputs": []
    },
    {
      "cell_type": "code",
      "metadata": {
        "id": "eHK2PHopzn8J",
        "colab_type": "code",
        "colab": {}
      },
      "source": [
        "df.head()"
      ],
      "execution_count": null,
      "outputs": []
    },
    {
      "cell_type": "code",
      "metadata": {
        "id": "Hnn4Phkuqwvr",
        "colab_type": "code",
        "colab": {}
      },
      "source": [
        "import math\n",
        "training_data_size = math.ceil(df.shape[0] * 0.7)"
      ],
      "execution_count": null,
      "outputs": []
    },
    {
      "cell_type": "code",
      "metadata": {
        "id": "FaY8gp1zq0Iy",
        "colab_type": "code",
        "colab": {}
      },
      "source": [
        "training_data = df[:training_data_size]\n",
        "test_data = df[training_data_size:]"
      ],
      "execution_count": null,
      "outputs": []
    },
    {
      "cell_type": "code",
      "metadata": {
        "id": "eVSlokRcrGnP",
        "colab_type": "code",
        "colab": {}
      },
      "source": [
        "training_data.to_csv('training.csv', index=False)\n",
        "test_data.to_csv('test.csv', index=False)"
      ],
      "execution_count": null,
      "outputs": []
    },
    {
      "cell_type": "code",
      "metadata": {
        "id": "oSvy0HPlrJv5",
        "colab_type": "code",
        "colab": {}
      },
      "source": [
        "!bq load --project_id $project_id --autodetect --source_format='CSV' $example_dataset\".training_data\" training.csv\n",
        "!bq load --project_id $project_id --autodetect --source_format='CSV' $example_dataset\".test_data\" test.csv"
      ],
      "execution_count": null,
      "outputs": []
    },
    {
      "cell_type": "markdown",
      "metadata": {
        "id": "afxia25a1I6U",
        "colab_type": "text"
      },
      "source": [
        "# Create a BQML model\n",
        "\n",
        "Creating a logistic regression model that tries to predict if a user converts based on total number of visits."
      ]
    },
    {
      "cell_type": "code",
      "metadata": {
        "id": "Vn-m-kDbsbsx",
        "colab_type": "code",
        "colab": {}
      },
      "source": [
        "%%bigquery --project=$project_id\n",
        "CREATE OR REPLACE MODEL `my_schema.test_model` \n",
        "OPTIONS (model_type='logistic_reg', input_label_cols=['converted'], auto_class_weights=True) AS\n",
        "(\n",
        "  SELECT all_visits, converted \n",
        "  FROM `my_schema.training_data`\n",
        ")"
      ],
      "execution_count": null,
      "outputs": []
    },
    {
      "cell_type": "markdown",
      "metadata": {
        "id": "orAVUX-_1M-C",
        "colab_type": "text"
      },
      "source": [
        "# Evaluate a BQML model"
      ]
    },
    {
      "cell_type": "code",
      "metadata": {
        "id": "1vARzjeesjpm",
        "colab_type": "code",
        "colab": {}
      },
      "source": [
        "%%bigquery --project=$project_id\n",
        "SELECT * \n",
        "FROM ML.EVALUATE(MODEL `my_schema.test_model`, \n",
        "                 (SELECT * FROM `my_schema.test_data`))"
      ],
      "execution_count": null,
      "outputs": []
    },
    {
      "cell_type": "markdown",
      "metadata": {
        "id": "1VMQPB4E1RzK",
        "colab_type": "text"
      },
      "source": [
        "# Predict using a BQML model \n",
        "We'd need this query for automating audience import in GA."
      ]
    },
    {
      "cell_type": "code",
      "metadata": {
        "id": "39Zm11cpw3rB",
        "colab_type": "code",
        "colab": {}
      },
      "source": [
        "%%bigquery --project=$project_id predicted_df\n",
        "SELECT clientId AS ga_userId, NTILE(10) OVER (ORDER BY prob DESC) AS ga_dimension1 \n",
        "FROM ML.PREDICT(MODEL `my_schema.test_model`, \n",
        "                (SELECT * FROM `my_schema.test_data`)),\n",
        "     UNNEST(predicted_converted_probs)"
      ],
      "execution_count": null,
      "outputs": []
    },
    {
      "cell_type": "code",
      "metadata": {
        "id": "R475gekF4VdE",
        "colab_type": "code",
        "colab": {}
      },
      "source": [
        "predicted_df.head()"
      ],
      "execution_count": null,
      "outputs": []
    }
  ]
}