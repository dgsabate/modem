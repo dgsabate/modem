{
  "nbformat": 4,
  "nbformat_minor": 0,
  "metadata": {
    "colab": {
      "name": "BQML Deployment Template - Compute Engine.ipynb",
      "provenance": [],
      "collapsed_sections": []
    },
    "kernelspec": {
      "name": "python3",
      "display_name": "Python 3"
    }
  },
  "cells": [
    {
      "cell_type": "markdown",
      "metadata": {
        "id": "J1OeZp-_GpcH",
        "colab_type": "text"
      },
      "source": [
        "#Step 0: Authenticate & Fetch Code"
      ]
    },
    {
      "cell_type": "code",
      "metadata": {
        "id": "senjQxOt4Zpp",
        "colab_type": "code",
        "cellView": "form",
        "colab": {}
      },
      "source": [
        "GCP_PROJECT_ID = \"\" #@param {type:\"string\"}\n",
        "INSTANCE_NAME=\"\" #@param {type:\"string\"}"
      ],
      "execution_count": null,
      "outputs": []
    },
    {
      "cell_type": "code",
      "metadata": {
        "id": "mv28dKbR0Rnu",
        "colab_type": "code",
        "colab": {}
      },
      "source": [
        "!gcloud auth login\n",
        "!gcloud config set project $GCP_PROJECT_ID\n",
        "!rm -rf modem && git clone https://github.com/google/modem.git"
      ],
      "execution_count": null,
      "outputs": []
    },
    {
      "cell_type": "code",
      "metadata": {
        "id": "B6hlCN6j2x-y",
        "colab_type": "code",
        "colab": {}
      },
      "source": [
        "import re\n",
        "email=!gcloud config get-value account\n",
        "SSH_DESTINATION = re.findall(r\".*@\",email[0])[0]+INSTANCE_NAME\n",
        "SSH_DESTINATION = SSH_DESTINATION.replace('.','_')\n",
        "print(\"SSH Destination: \", SSH_DESTINATION)"
      ],
      "execution_count": null,
      "outputs": []
    },
    {
      "cell_type": "code",
      "metadata": {
        "id": "XS3VNi_MJXU6",
        "colab_type": "code",
        "colab": {}
      },
      "source": [
        "%%writefile enable_firewall.sh\n",
        "exists_rule=$(gcloud compute firewall-rules list | grep \"default-allow-ssh\" | wc -l)\n",
        "if [ $exists_rule -eq 0 ] \n",
        "then \n",
        "  gcloud compute firewall-rules create default-allow-ssh --allow tcp:22;\n",
        "  echo \"New firewall rule created.\"\n",
        "else\n",
        "  echo \"The correct firewall rules exist.\" \n",
        "fi"
      ],
      "execution_count": null,
      "outputs": []
    },
    {
      "cell_type": "markdown",
      "metadata": {
        "id": "ZhSslEe-HTbj",
        "colab_type": "text"
      },
      "source": [
        "# Step 1: Copy the service key file text into the cell below.\n",
        "\n",
        "Replace the existing content expect the %%writefile header (line 1)."
      ]
    },
    {
      "cell_type": "code",
      "metadata": {
        "id": "0bHgZrfyHT31",
        "colab_type": "code",
        "colab": {}
      },
      "source": [
        "%%writefile modem/bqml/pipeline/svc_key.json\n",
        "{\n",
        "  \"TODO\": \"Replace file.\" \n",
        "}"
      ],
      "execution_count": null,
      "outputs": []
    },
    {
      "cell_type": "markdown",
      "metadata": {
        "id": "PkCIDG4hHaL3",
        "colab_type": "text"
      },
      "source": [
        "# Step 2: Fill out the parameters\n",
        "\n",
        "GA_ACCOUNT_ID, GA_PROPERTY_ID, GA_DATASET_ID, BQML_PREDICT_QUERY (required) <br>\n",
        "**Note:** Please don't remove the string quotes."
      ]
    },
    {
      "cell_type": "code",
      "metadata": {
        "id": "GY1ic4NEHcAs",
        "colab_type": "code",
        "colab": {}
      },
      "source": [
        "%%writefile modem/bqml/pipeline/params.py\n",
        "# -------------------------MANDATORY SECTION------------------------\n",
        "\n",
        "# GA Details \n",
        "GA_ACCOUNT_ID = \"\"\n",
        "GA_PROPERTY_ID = \"\"\n",
        "GA_DATASET_ID = \"\" \n",
        "GA_IMPORT_METHOD = \"di\" # \"di\" - Data Import or \"mp\" - Measurement Protocol \n",
        "\n",
        "# BQML Details -\n",
        "# Ensure that the BQ result headers resemble the data import schema\n",
        "# E.g. If data import schema looks like  - ga:clientId, ga:dimension1, etc.\n",
        "# BQ result headers should like ga_clientId, ga_dimension1, etc.\n",
        "BQML_PREDICT_QUERY = \"\"\"\n",
        "                     \"\"\"\n",
        "\n",
        "# Options for logging & error monitoring\n",
        "# LOGGING: Create BQ Table for logs with schema as follows -\n",
        "# time TIMESTAMP, status STRING, error ERROR\n",
        "ENABLE_BQ_LOGGING = False\n",
        "# ERROR MONITORING: Sign up for the free Sendgrid API.\n",
        "ENABLE_SENDGRID_EMAIL_REPORTING = False\n",
        "\n",
        "# --------------------------OPTIONAL SECTION-------------------------\n",
        "\n",
        "# (OPTIONAL) Workflow Logging - BQ details, if enabled\n",
        "GCP_PROJECT_ID = \"\"\n",
        "BQ_DATASET_NAME = \"\"\n",
        "BQ_TABLE_NAME = \"\"\n",
        "\n",
        "\n",
        "# (OPTIONAL) Email Reporting - Sendgrid details, if enabled\n",
        "SENDGRID_API_KEY = \"\"\n",
        "TO_EMAIL = \"\"\n",
        "\n",
        "\n",
        "# (OPTIONAL) Email Reporting - Additional Parameters\n",
        "FROM_EMAIL = \"workflow@example.com\"\n",
        "SUBJECT = \"FAILED: Audience Upload to GA\"\n",
        "HTML_CONTENT = \"\"\"\n",
        "               <p>\n",
        "               Hi WorkflowUser, <br>\n",
        "               Your BQML Custom Audience Upload has failed- <br>\n",
        "               Time: {0} UTC <br>\n",
        "               Reason: {1}\n",
        "               </p>\n",
        "               \"\"\""
      ],
      "execution_count": null,
      "outputs": []
    },
    {
      "cell_type": "markdown",
      "metadata": {
        "id": "rmrnPYHEq1vg",
        "colab_type": "text"
      },
      "source": [
        "**Change the cron schedule** (line 1) to the desired frequency. "
      ]
    },
    {
      "cell_type": "code",
      "metadata": {
        "id": "yLLVFNN3oAJm",
        "colab_type": "code",
        "colab": {}
      },
      "source": [
        "%%writefile modem/bqml/pipeline/shell_scheduler.sh\n",
        "cron_schedule=\"*/2 * * * *\" \n",
        "echo \"$cron_schedule cd ~/modem/bqml/pipeline && python main.py >> logs.csv\" | crontab -\n",
        "echo \"Your workflow has been scheduled with the cron schedule of $cron_schedule. Enjoy!\""
      ],
      "execution_count": null,
      "outputs": []
    },
    {
      "cell_type": "markdown",
      "metadata": {
        "id": "VMy7Ir_bHm_a",
        "colab_type": "text"
      },
      "source": [
        "# Step 3: Deploy the code\n",
        "\n",
        "Run the cell below."
      ]
    },
    {
      "cell_type": "code",
      "metadata": {
        "id": "rENZBeJTX52o",
        "colab_type": "code",
        "colab": {}
      },
      "source": [
        "!sh enable_firewall.sh\n",
        "!gcloud compute scp --recurse modem $SSH_DESTINATION:~/\n",
        "!echo \"Code deployed.\""
      ],
      "execution_count": null,
      "outputs": []
    },
    {
      "cell_type": "markdown",
      "metadata": {
        "id": "TEOukGiUaKqZ",
        "colab_type": "text"
      },
      "source": [
        "# Step 4: Test and schedule the code\n",
        "\n",
        "When you run the cell below, an interactive shell opens up. Use the following commands - \n",
        "1. Test the code. \n",
        "If successful, you should see a SUCCESS message along with a timestamp. Proceed to Step 2. <br>\n",
        "If there are any errors, you can either work through the colab from Step 1, fixing the parameters, or log into the Compute Engine instance to fix the errors.\n",
        "```\n",
        "cd modem/bqml/pipeline\n",
        "sh shell_deploy.sh\n",
        "```\n",
        "2. Ensure Step 1 was successful. Run the command below.\n",
        "```\n",
        "sh shell_scheduler.sh\n",
        "```"
      ]
    },
    {
      "cell_type": "code",
      "metadata": {
        "id": "DFkurzBMUuKb",
        "colab_type": "code",
        "colab": {}
      },
      "source": [
        "!gcloud compute ssh $SSH_DESTINATION"
      ],
      "execution_count": null,
      "outputs": []
    }
  ]
}