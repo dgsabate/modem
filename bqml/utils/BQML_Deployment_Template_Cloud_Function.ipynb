{
  "nbformat": 4,
  "nbformat_minor": 0,
  "metadata": {
    "colab": {
      "name": "BQML Deployment Template.ipynb",
      "provenance": [],
      "collapsed_sections": []
    },
    "kernelspec": {
      "name": "python3",
      "display_name": "Python 3"
    }
  },
  "cells": [
    {
      "cell_type": "markdown",
      "metadata": {
        "id": "LfqITQgUOw6h",
        "colab_type": "text"
      },
      "source": [
        "#Step 0: Authenticate & Fetch Code"
      ]
    },
    {
      "cell_type": "code",
      "metadata": {
        "id": "SgmYlNsg5QoY",
        "colab_type": "code",
        "cellView": "both",
        "colab": {}
      },
      "source": [
        "GCP_PROJECT_ID = \"\" #@param {type:\"string\"}"
      ],
      "execution_count": 10,
      "outputs": []
    },
    {
      "cell_type": "code",
      "metadata": {
        "id": "0Y2VDsp3u7D7",
        "colab_type": "code",
        "colab": {}
      },
      "source": [
        "!gcloud auth login\n",
        "!gcloud config set project $GCP_PROJECT_ID"
      ],
      "execution_count": null,
      "outputs": []
    },
    {
      "cell_type": "code",
      "metadata": {
        "id": "qrQe_muGLDZI",
        "colab_type": "code",
        "colab": {}
      },
      "source": [
        "!rm -rf modem && git clone https://github.com/google/modem.git"
      ],
      "execution_count": null,
      "outputs": []
    },
    {
      "cell_type": "markdown",
      "metadata": {
        "id": "F68GjTCF6_eO",
        "colab_type": "text"
      },
      "source": [
        "# Step 1: Copy the service key file text into the cell below.\n",
        "\n",
        "Replace the existing content expect the %%writefile header (line 1)."
      ]
    },
    {
      "cell_type": "code",
      "metadata": {
        "id": "4z-t093VbYi5",
        "colab_type": "code",
        "colab": {}
      },
      "source": [
        "%%writefile modem/bqml/pipeline/svc_key.json\n",
        "{\n",
        "  \"TODO\": \"Replace file.\" \n",
        "}"
      ],
      "execution_count": null,
      "outputs": []
    },
    {
      "cell_type": "markdown",
      "metadata": {
        "id": "ysn9j8Lg8DF-",
        "colab_type": "text"
      },
      "source": [
        "# Step 2: Fill out the parameters\n",
        "\n",
        "GA_ACCOUNT_ID, GA_PROPERTY_ID, GA_DATASET_ID, BQML_PREDICT_QUERY (required) <br>\n",
        "**Note:** Please don't remove the string quotes."
      ]
    },
    {
      "cell_type": "code",
      "metadata": {
        "id": "eHTElGAqcq-F",
        "colab_type": "code",
        "colab": {}
      },
      "source": [
        "%%writefile modem/bqml/pipeline/params.py\n",
        "# -------------------------MANDATORY SECTION------------------------\n",
        "\n",
        "# GA Details \n",
        "GA_ACCOUNT_ID = \"\"\n",
        "GA_PROPERTY_ID = \"\"\n",
        "GA_DATASET_ID = \"\" \n",
        "GA_IMPORT_METHOD = \"di\" # \"di\" - Data Import or \"mp\" - Measurement Protocol \n",
        "\n",
        "# BQML Details -\n",
        "# Ensure that the BQ result headers resemble the data import schema\n",
        "# E.g. If data import schema looks like  - ga:clientId, ga:dimension1, etc.\n",
        "# BQ result headers should like ga_clientId, ga_dimension1, etc.\n",
        "BQML_PREDICT_QUERY = \"\"\"\n",
        "                     \"\"\"\n",
        "\n",
        "# Options for logging & error monitoring\n",
        "# LOGGING: Create BQ Table for logs with schema as follows -\n",
        "# time TIMESTAMP, status STRING, error ERROR\n",
        "ENABLE_BQ_LOGGING = False\n",
        "# ERROR MONITORING: Sign up for the free Sendgrid API.\n",
        "ENABLE_SENDGRID_EMAIL_REPORTING = False\n",
        "\n",
        "# --------------------------OPTIONAL SECTION-------------------------\n",
        "\n",
        "# (OPTIONAL) Workflow Logging - BQ details, if enabled\n",
        "GCP_PROJECT_ID = \"\"\n",
        "BQ_DATASET_NAME = \"\"\n",
        "BQ_TABLE_NAME = \"\"\n",
        "\n",
        "\n",
        "# (OPTIONAL) Email Reporting - Sendgrid details, if enabled\n",
        "SENDGRID_API_KEY = \"\"\n",
        "TO_EMAIL = \"\"\n",
        "\n",
        "\n",
        "# (OPTIONAL) Email Reporting - Additional Parameters\n",
        "FROM_EMAIL = \"workflow@example.com\"\n",
        "SUBJECT = \"FAILED: Audience Upload to GA\"\n",
        "HTML_CONTENT = \"\"\"\n",
        "               <p>\n",
        "               Hi WorkflowUser, <br>\n",
        "               Your BQML Custom Audience Upload has failed- <br>\n",
        "               Time: {0} UTC <br>\n",
        "               Reason: {1}\n",
        "               </p>\n",
        "               \"\"\""
      ],
      "execution_count": null,
      "outputs": []
    },
    {
      "cell_type": "markdown",
      "metadata": {
        "id": "eMV_48Yw8YXa",
        "colab_type": "text"
      },
      "source": [
        "# Step 3: Deploy the cloud function\n",
        "Run the cell below. Takes 2 - 3 mins.\n",
        "Asks for the following -\n",
        "* GCP PROJECT ID\n",
        "* FUNCTION NAME (any name you like)\n",
        "* Allow unauthenticated invocations of new function (y/N)? -> N "
      ]
    },
    {
      "cell_type": "code",
      "metadata": {
        "id": "kUftHrVuuJLR",
        "colab_type": "code",
        "colab": {}
      },
      "source": [
        "%%shell\n",
        "cd modem/bqml/pipeline\n",
        "sh deploy.sh > upload.txt\n",
        "cat upload.txt"
      ],
      "execution_count": null,
      "outputs": []
    },
    {
      "cell_type": "markdown",
      "metadata": {
        "id": "TZo-FEr99ShX",
        "colab_type": "text"
      },
      "source": [
        "# Step 4: Test the function\n",
        "Run the cell below."
      ]
    },
    {
      "cell_type": "code",
      "metadata": {
        "id": "ZLL5MZXLcihL",
        "colab_type": "code",
        "colab": {}
      },
      "source": [
        "import re\n",
        "functions_ui_url = \"https://console.cloud.google.com/functions/list?project=\"+GCP_PROJECT_ID\n",
        "print(\"Cloud Functions UI: \", functions_ui_url)\n",
        "FUNCTION_URL = re.findall(r'https://.*', open(\"modem/bqml/pipeline/upload.txt\").read())[0]\n",
        "print(\"Testing: \",FUNCTION_URL)\n",
        "!curl $FUNCTION_URL -H \"Authorization: Bearer $(gcloud auth print-identity-token)\" "
      ],
      "execution_count": null,
      "outputs": []
    },
    {
      "cell_type": "markdown",
      "metadata": {
        "id": "ev4xYin4MDxO",
        "colab_type": "text"
      },
      "source": [
        "# Step 5: Schedule the function using Cloud Scheduler\n",
        "\n",
        "Specify the params and run the cell below - \n",
        "* **JOBNAME:** Any name you like, e.g. \"schedule_model_upload\"\n",
        "* **SCHEDULE:** Specify the schedule in a cron-tab format e.g. \"45 23 * * *\" to run job every day at 11:45 pm\n",
        "* **TIMEZONE:** Specify timezone e.g. \"EST\", \"PST\", \"CST\" etc. for US time zones"
      ]
    },
    {
      "cell_type": "code",
      "metadata": {
        "id": "yXKYmWOVEwa2",
        "colab_type": "code",
        "cellView": "form",
        "colab": {}
      },
      "source": [
        "JOB_NAME=\"\" #@param {type:\"string\", description:\"ad\"}\n",
        "SCHEDULE=\"\" #@param {type:\"string\"}\n",
        "TIMEZONE=\"EST\" #@param {type:\"string\"}\n",
        "SERVICE_ACCOUNT_EMAIL=GCP_PROJECT_ID+\"@appspot.gserviceaccount.com\"\n",
        "\n",
        "!gcloud scheduler jobs create http $JOB_NAME --schedule=\"$SCHEDULE\" --uri=\"$FUNCTION_URL\" --time-zone=$TIMEZONE --oidc-service-account-email=$SERVICE_ACCOUNT_EMAIL --attempt-deadline=\"540s\"\n",
        "scheduler_url = \"https://console.cloud.google.com/cloudscheduler?project=\"+GCP_PROJECT_ID\n",
        "print(\"Job scheduled. Check in the Cloud Scheduler UI: \", scheduler_url)"
      ],
      "execution_count": null,
      "outputs": []
    }
  ]
}
